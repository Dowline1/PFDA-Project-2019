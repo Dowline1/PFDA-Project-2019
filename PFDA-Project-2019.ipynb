{
 "cells": [
  {
   "cell_type": "markdown",
   "metadata": {},
   "source": [
    "# PFDA-Project-2019\n",
    "\n",
    "## Programming for Data Analysis Project 2019 - Child Birth"
   ]
  },
  {
   "cell_type": "markdown",
   "metadata": {},
   "source": [
    "### Simulating Data\n",
    "\n",
    "\n",
    "### Child Birth Ireland"
   ]
  },
  {
   "cell_type": "markdown",
   "metadata": {},
   "source": [
    "### Import Packages"
   ]
  },
  {
   "cell_type": "code",
   "execution_count": 1,
   "metadata": {},
   "outputs": [],
   "source": [
    "import numpy as np\n",
    "import pandas as pd\n",
    "import matplotlib.pyplot as plt \n",
    "import seaborn as sbn"
   ]
  },
  {
   "cell_type": "markdown",
   "metadata": {},
   "source": [
    "Below code will be used so that the number of Irish children born can be simulated up to any positive integer, code to ensure number entered into variable is a positive integer adapted from [here.](https://www.quora.com/How-can-I-make-sure-the-user-inputs-a-positive-integer-in-Python)"
   ]
  },
  {
   "cell_type": "code",
   "execution_count": 2,
   "metadata": {},
   "outputs": [
    {
     "name": "stdout",
     "output_type": "stream",
     "text": [
      "Please enter the number of Irish births you would like to simulate: 500\n"
     ]
    }
   ],
   "source": [
    "# code below adapted from above link which prevents numbers less than 0 and non numeric characters being entered.\n",
    "\n",
    "while True:\n",
    "\ttry:\n",
    "\t\tnumber_births = int(input(\"Please enter the number of Irish births you would like to simulate: \"))\n",
    "\t\tassert(number_births>0)\n",
    "\t\tbreak\n",
    "\texcept:\n",
    "\t\tprint(\"The number of births must be a positive integer, please try again.\")"
   ]
  },
  {
   "cell_type": "markdown",
   "metadata": {},
   "source": [
    "### Create Gender Data\n",
    "After some initial research my simulation will focus on first time parents becasue as the birth order increases this can have an affect on the gender ratio of the child being born as can be seen [here.](https://ourworldindata.org/gender-ratio) As the birth order increases there is a bias in favour of females being born, it may be possible to build this variation into my simulation however further research is required first.\n",
    "\n",
    "The paper related to the above website on gender ratios can be found [here](https://www.pnas.org/content/116/19/9303), for the generation of the gender data used to validate there sample the authors used a normal distribution. This will also be the distribution I will use in the generation of the gender of the children born in my simulaiton."
   ]
  },
  {
   "cell_type": "code",
   "execution_count": 3,
   "metadata": {},
   "outputs": [],
   "source": [
    "gender_number = np.random.normal(loc=0.0, scale=1.0, size=number_births)"
   ]
  },
  {
   "cell_type": "markdown",
   "metadata": {},
   "source": [
    "After generating the random numbers that I will use as the basis for determining the gender of the children in my simulation I plotted the data in a histogram to confirm the normal distribution of the data. I will create a text column that is linked to this number whereby numbers greater than 0 will be male and less than will be females."
   ]
  },
  {
   "cell_type": "code",
   "execution_count": 4,
   "metadata": {},
   "outputs": [
    {
     "data": {
      "image/png": "[encoded data removed]",
      "text/plain": [
       "<Figure size 1080x540 with 1 Axes>"
      ]
     },
     "metadata": {
      "needs_background": "light"
     },
     "output_type": "display_data"
    }
   ],
   "source": [
    "plt.rcParams[\"figure.figsize\"] = (15,7.5)\n",
    "\n",
    "sbn.distplot(gender_number, color='orange',  bins=6)\n",
    "sbn.set_style(\"darkgrid\")\n",
    "plt.title('Fig 1: Gender Number Histogram')\n",
    "plt.xlabel('< 0 = Females > 0 = Males ')\n",
    "plt.ylabel('Frequency')\n",
    "plt.show()"
   ]
  },
  {
   "cell_type": "code",
   "execution_count": 5,
   "metadata": {
    "scrolled": true
   },
   "outputs": [],
   "source": [
    "# Convert from numpy array to pandas dataframe, this dataframe will house the data for my final submission\n",
    "\n",
    "birth_data = pd.DataFrame(gender_number)\n",
    "birth_data.columns = ['gender_number']"
   ]
  },
  {
   "cell_type": "markdown",
   "metadata": {},
   "source": [
    "Code to create text of gender based on values gender number column adapted from [here.](https://stackoverflow.com/questions/19913659/pandas-conditional-creation-of-a-series-dataframe-column)"
   ]
  },
  {
   "cell_type": "code",
   "execution_count": 6,
   "metadata": {
    "scrolled": true
   },
   "outputs": [
    {
     "name": "stdout",
     "output_type": "stream",
     "text": [
      "     gender_number gender_text\n",
      "0        -0.310278      Female\n",
      "1         0.386164        Male\n",
      "2        -0.455048      Female\n",
      "3         1.055178        Male\n",
      "4        -0.134300      Female\n",
      "5        -0.872919      Female\n",
      "6        -0.913455      Female\n",
      "7        -0.481823      Female\n",
      "8        -1.528090      Female\n",
      "9        -0.884627      Female\n",
      "10        2.065372        Male\n",
      "11       -1.110936      Female\n",
      "12        0.635452        Male\n",
      "13       -0.477142      Female\n",
      "14        1.246080        Male\n",
      "15       -0.607636      Female\n",
      "16        1.753793        Male\n",
      "17       -0.433583      Female\n",
      "18        2.362398        Male\n",
      "19       -0.925383      Female\n",
      "20        1.232786        Male\n",
      "21        0.709814        Male\n",
      "22       -1.122966      Female\n",
      "23        0.469769        Male\n",
      "24       -2.114665      Female\n",
      "25        0.120600        Male\n",
      "26        1.182267        Male\n",
      "27       -2.064542      Female\n",
      "28       -0.665068      Female\n",
      "29        0.571078        Male\n",
      "..             ...         ...\n",
      "470       1.418665        Male\n",
      "471      -0.813147      Female\n",
      "472       0.321139        Male\n",
      "473      -0.273740      Female\n",
      "474      -0.502147      Female\n",
      "475       0.427880        Male\n",
      "476       0.396036        Male\n",
      "477      -0.871333      Female\n",
      "478       0.334588        Male\n",
      "479       0.655617        Male\n",
      "480       0.858555        Male\n",
      "481       2.220283        Male\n",
      "482      -0.769059      Female\n",
      "483      -0.245172      Female\n",
      "484      -1.253069      Female\n",
      "485       0.946210        Male\n",
      "486       0.330136        Male\n",
      "487       1.217944        Male\n",
      "488       0.031436        Male\n",
      "489       0.197766        Male\n",
      "490       0.474288        Male\n",
      "491      -0.916973      Female\n",
      "492      -0.186102      Female\n",
      "493      -0.632154      Female\n",
      "494       0.234552        Male\n",
      "495      -0.078652      Female\n",
      "496       1.229829        Male\n",
      "497      -0.129134      Female\n",
      "498      -1.336479      Female\n",
      "499      -0.010834      Female\n",
      "\n",
      "[500 rows x 2 columns]\n"
     ]
    }
   ],
   "source": [
    "birth_data['gender_text'] = np.where(birth_data['gender_number']>0, 'Male', 'Female')\n",
    "print(birth_data)"
   ]
  },
  {
   "cell_type": "markdown",
   "metadata": {},
   "source": [
    "### Create Gestation Length Data"
   ]
  },
  {
   "cell_type": "markdown",
   "metadata": {},
   "source": [
    "Gestation period plays a huge role in the birth weight that a child will be when it is born, (Jukic, et al., 2013) describes several start points for starting the counting of days of gestation. For my analysis I will be using the Last Menstrual Period (LMP) as my start point for measuring the number of days of gestation.\n",
    "\n",
    "The mean and standard deviation required to generate the gestational data were taken from (Jukic, et al., 2013), the type of distribution that represents gestation period can be seen in (Nassar, et al., 2013). \n",
    "\n",
    "Figure 1 taken from (Nassar, et al., 2013) shows the curve of the gestation period over the years 1994-2009 for Australian births, the resulting curve for 2009 apppears to follow a standard normal distribution.\n",
    "\n",
    "\n",
    "![Figure 1](Resources/Figure_1.png)\n",
    "**Figure 1**\n",
    "\n",
    "\n",
    "\n",
    "\n",
    "For my simulation I will generate data for gestational period in days that follows this kind of curve."
   ]
  },
  {
   "cell_type": "code",
   "execution_count": 7,
   "metadata": {},
   "outputs": [],
   "source": [
    "# Mean 285 Standar Deviation 14 as per Table I (Jukic, et al., 2013)\n",
    "# Numbers divided by 7 in order to get number of weeks to be used in birth weight calculation\n",
    "\n",
    "birth_data['gestation_period'] = np.random.normal(loc=285, scale=14, size=number_births)/7\n",
    "\n",
    "# Round Gestation Period to nearest whole number\n",
    "birth_data['gestation_period'] = birth_data['gestation_period'].round(0)"
   ]
  },
  {
   "cell_type": "markdown",
   "metadata": {},
   "source": [
    "### Create Weight Data"
   ]
  },
  {
   "cell_type": "markdown",
   "metadata": {},
   "source": [
    "The study carried out in (Charnigo, et al., 2010) set out to model the distributions of birth weights in children. The author goes on to explain that different components of data can have an influence on the shape of the distributions such as smoking preference and ethnicity to name two.\n",
    "\n",
    "For the purpose of this simulation as highlighted by the author of the above study I will be using a noraml distribution as thre are far too many components to account for all instances but I will use a different mean for either genders and the gestation age in the generation of the data.\n",
    "\n",
    "In there study (Janssen, et al., 2007) descibed the mean and standard deviations of birth weights broken out by gestation period and gender, table 1 is taken from this study. \n",
    "\n",
    "For generating my data I will be using the european baby data, for gestation periods in my simulated data above 41 weeks and below 37 weeks I will combine them with the closest week number I have data for.\n",
    "\n",
    "\n",
    "**Table 1**\n",
    "![Table_1](Resources/Table_1.png)"
   ]
  },
  {
   "cell_type": "markdown",
   "metadata": {},
   "source": [
    "Code to create new column in datafram using apply function adapted from [here](https://stackoverflow.com/questions/30631841/pandas-how-do-i-assign-values-based-on-multiple-conditions-for-existing-columns)."
   ]
  },
  {
   "cell_type": "code",
   "execution_count": 8,
   "metadata": {},
   "outputs": [],
   "source": [
    "def f(birth_data):\n",
    "  if birth_data['gender_number'] > 0 and birth_data['gestation_period'] <= 37.0: return np.random.normal(loc=3336.4, scale=434.3, size=None)\n",
    "  elif birth_data['gender_number'] > 0 and birth_data['gestation_period'] == 38 : return np.random.normal(loc=3359.4, scale=416.3, size=None)\n",
    "  elif birth_data['gender_number'] > 0 and birth_data['gestation_period'] == 39 : return np.random.normal(loc=3586.0, scale=460.3, size=None)  \n",
    "  elif birth_data['gender_number'] > 0 and birth_data['gestation_period'] == 40 : return np.random.normal(loc=3687.6, scale=410.5, size=None)\n",
    "  elif birth_data['gender_number'] > 0 and birth_data['gestation_period'] >= 41 : return np.random.normal(loc=3877.1, scale=384.4, size=None)\n",
    "  elif birth_data['gender_number'] < 0 and birth_data['gestation_period'] <= 37 : return np.random.normal(loc=3050.7, scale=414.1, size=None)\n",
    "  elif birth_data['gender_number'] < 0 and birth_data['gestation_period'] == 38 : return np.random.normal(loc=3293.5, scale=423.3, size=None)\n",
    "  elif birth_data['gender_number'] < 0 and birth_data['gestation_period'] == 39 : return np.random.normal(loc=3455.8, scale=434, size=None)\n",
    "  elif birth_data['gender_number'] < 0 and birth_data['gestation_period'] == 40 : return np.random.normal(loc=3639.5, scale=458.2, size=None)\n",
    "  elif birth_data['gender_number'] < 0 and birth_data['gestation_period'] >= 41 : return np.random.normal(loc=3696.8, scale=448, size=None)\n",
    "  else: return 0\n",
    "\n",
    "birth_data['birth_weight'] = birth_data.apply(f, axis=1)\n",
    "\n",
    "# Round birth weight to 0 decimals\n",
    "birth_data['birth_weight'] = birth_data['birth_weight'].round(0)"
   ]
  },
  {
   "cell_type": "code",
   "execution_count": 9,
   "metadata": {
    "scrolled": true
   },
   "outputs": [
    {
     "name": "stdout",
     "output_type": "stream",
     "text": [
      "     gender_number gender_text  gestation_period  birth_weight\n",
      "0        -0.310278      Female              41.0        3445.0\n",
      "1         0.386164        Male              39.0        3915.0\n",
      "2        -0.455048      Female              42.0        3651.0\n",
      "3         1.055178        Male              38.0        3763.0\n",
      "4        -0.134300      Female              41.0        3792.0\n",
      "5        -0.872919      Female              42.0        3277.0\n",
      "6        -0.913455      Female              37.0        3413.0\n",
      "7        -0.481823      Female              43.0        2996.0\n",
      "8        -1.528090      Female              41.0        3784.0\n",
      "9        -0.884627      Female              43.0        3476.0\n",
      "10        2.065372        Male              41.0        3677.0\n",
      "11       -1.110936      Female              38.0        3288.0\n",
      "12        0.635452        Male              40.0        3097.0\n",
      "13       -0.477142      Female              40.0        3254.0\n",
      "14        1.246080        Male              39.0        3192.0\n",
      "15       -0.607636      Female              40.0        3545.0\n",
      "16        1.753793        Male              40.0        3439.0\n",
      "17       -0.433583      Female              37.0        2652.0\n",
      "18        2.362398        Male              42.0        4595.0\n",
      "19       -0.925383      Female              43.0        3785.0\n",
      "20        1.232786        Male              44.0        4246.0\n",
      "21        0.709814        Male              42.0        3854.0\n",
      "22       -1.122966      Female              38.0        3089.0\n",
      "23        0.469769        Male              38.0        3825.0\n",
      "24       -2.114665      Female              37.0        3238.0\n",
      "25        0.120600        Male              43.0        3792.0\n",
      "26        1.182267        Male              44.0        4291.0\n",
      "27       -2.064542      Female              38.0        3029.0\n",
      "28       -0.665068      Female              40.0        4178.0\n",
      "29        0.571078        Male              43.0        4001.0\n",
      "..             ...         ...               ...           ...\n",
      "470       1.418665        Male              43.0        3098.0\n",
      "471      -0.813147      Female              40.0        3394.0\n",
      "472       0.321139        Male              43.0        4584.0\n",
      "473      -0.273740      Female              40.0        2297.0\n",
      "474      -0.502147      Female              40.0        3362.0\n",
      "475       0.427880        Male              40.0        3352.0\n",
      "476       0.396036        Male              41.0        4132.0\n",
      "477      -0.871333      Female              39.0        3765.0\n",
      "478       0.334588        Male              41.0        3766.0\n",
      "479       0.655617        Male              40.0        3576.0\n",
      "480       0.858555        Male              39.0        4150.0\n",
      "481       2.220283        Male              40.0        4333.0\n",
      "482      -0.769059      Female              37.0        2825.0\n",
      "483      -0.245172      Female              39.0        3711.0\n",
      "484      -1.253069      Female              40.0        4688.0\n",
      "485       0.946210        Male              42.0        3596.0\n",
      "486       0.330136        Male              42.0        3889.0\n",
      "487       1.217944        Male              41.0        3690.0\n",
      "488       0.031436        Male              37.0        3817.0\n",
      "489       0.197766        Male              40.0        3557.0\n",
      "490       0.474288        Male              38.0        3645.0\n",
      "491      -0.916973      Female              40.0        2952.0\n",
      "492      -0.186102      Female              42.0        4555.0\n",
      "493      -0.632154      Female              43.0        3690.0\n",
      "494       0.234552        Male              40.0        4266.0\n",
      "495      -0.078652      Female              43.0        2729.0\n",
      "496       1.229829        Male              40.0        3936.0\n",
      "497      -0.129134      Female              41.0        3201.0\n",
      "498      -1.336479      Female              38.0        3960.0\n",
      "499      -0.010834      Female              43.0        2308.0\n",
      "\n",
      "[500 rows x 4 columns]\n"
     ]
    }
   ],
   "source": [
    "print(birth_data)"
   ]
  },
  {
   "cell_type": "code",
   "execution_count": 10,
   "metadata": {},
   "outputs": [
    {
     "data": {
      "text/html": [
       "<div>\n",
       "<style scoped>\n",
       "    .dataframe tbody tr th:only-of-type {\n",
       "        vertical-align: middle;\n",
       "    }\n",
       "\n",
       "    .dataframe tbody tr th {\n",
       "        vertical-align: top;\n",
       "    }\n",
       "\n",
       "    .dataframe thead th {\n",
       "        text-align: right;\n",
       "    }\n",
       "</style>\n",
       "<table border=\"1\" class=\"dataframe\">\n",
       "  <thead>\n",
       "    <tr style=\"text-align: right;\">\n",
       "      <th></th>\n",
       "      <th>gender_number</th>\n",
       "      <th>gestation_period</th>\n",
       "      <th>birth_weight</th>\n",
       "    </tr>\n",
       "  </thead>\n",
       "  <tbody>\n",
       "    <tr>\n",
       "      <th>count</th>\n",
       "      <td>500.000000</td>\n",
       "      <td>500.000000</td>\n",
       "      <td>500.000000</td>\n",
       "    </tr>\n",
       "    <tr>\n",
       "      <th>mean</th>\n",
       "      <td>0.045858</td>\n",
       "      <td>40.724000</td>\n",
       "      <td>3667.750000</td>\n",
       "    </tr>\n",
       "    <tr>\n",
       "      <th>std</th>\n",
       "      <td>1.042744</td>\n",
       "      <td>2.069877</td>\n",
       "      <td>461.746267</td>\n",
       "    </tr>\n",
       "    <tr>\n",
       "      <th>min</th>\n",
       "      <td>-2.821244</td>\n",
       "      <td>35.000000</td>\n",
       "      <td>2297.000000</td>\n",
       "    </tr>\n",
       "    <tr>\n",
       "      <th>25%</th>\n",
       "      <td>-0.689567</td>\n",
       "      <td>39.000000</td>\n",
       "      <td>3374.750000</td>\n",
       "    </tr>\n",
       "    <tr>\n",
       "      <th>50%</th>\n",
       "      <td>0.029050</td>\n",
       "      <td>41.000000</td>\n",
       "      <td>3690.000000</td>\n",
       "    </tr>\n",
       "    <tr>\n",
       "      <th>75%</th>\n",
       "      <td>0.804960</td>\n",
       "      <td>42.000000</td>\n",
       "      <td>3961.250000</td>\n",
       "    </tr>\n",
       "    <tr>\n",
       "      <th>max</th>\n",
       "      <td>2.926374</td>\n",
       "      <td>48.000000</td>\n",
       "      <td>5114.000000</td>\n",
       "    </tr>\n",
       "  </tbody>\n",
       "</table>\n",
       "</div>"
      ],
      "text/plain": [
       "       gender_number  gestation_period  birth_weight\n",
       "count     500.000000        500.000000    500.000000\n",
       "mean        0.045858         40.724000   3667.750000\n",
       "std         1.042744          2.069877    461.746267\n",
       "min        -2.821244         35.000000   2297.000000\n",
       "25%        -0.689567         39.000000   3374.750000\n",
       "50%         0.029050         41.000000   3690.000000\n",
       "75%         0.804960         42.000000   3961.250000\n",
       "max         2.926374         48.000000   5114.000000"
      ]
     },
     "execution_count": 10,
     "metadata": {},
     "output_type": "execute_result"
    }
   ],
   "source": [
    "birth_data.describe()"
   ]
  },
  {
   "cell_type": "markdown",
   "metadata": {},
   "source": [
    "### References\n",
    "\n",
    "Central Statistics Office Ireland, Unknown. Vital Statistics Annual Report 2017 - Births 2017, Dublin: Central Statistics Office Ireland.\n",
    "\n",
    "Chao, F., Gerland, P., Cook, A. R. & Alkema, L., 2019. Systematic assessment of the sex ratio at birth for all countries and estimation of national imbalances and regional reference levels. PNAS, 116(19), pp. 9303 - 9311.\n",
    "\n",
    "Charnigo, R., Chesnut, L. W., LoBianco, T. & Kirby, R. S., 2010. Thinking outside the curve, part I: modeling birthweight distribution. BMC, 28 Jul.10(37).\n",
    "\n",
    "Janssen, P. A. et al., 2007. Standards for the measurement of birth weight, length and head circumference at term in neonates of European, Chinese and South Asian ancestry. Open Medicine, 10 Jul, 1(2), pp. 74-88.\n",
    "\n",
    "Jukic, A. M. et al., 2013. Length of human pregnancy and contributors to its natural variation. Human Reproduction, 6 Aug, 28(10), pp. 2848 - 2855.\n",
    "\n",
    "Ritchie, H. & Roser, M., 2019. Gender Ratio. [Online] \n",
    "Available at: https://ourworldindata.org/gender-ratio\n",
    "[Accessed 01 Onward December 2019].\n",
    "\n",
    "Walsh, A.-M., 2008. Big is beautiful as experts dispel 'sumo baby' myth. [Online] \n",
    "Available at: https://www.independent.ie/irish-news/big-is-beautiful-as-experts-dispel-sumo-baby-myth-26454311.html\n",
    "[Accessed 01 Onward December 2019]."
   ]
  },
  {
   "cell_type": "markdown",
   "metadata": {},
   "source": [
    "##### "
   ]
  }
 ],
 "metadata": {
  "kernelspec": {
   "display_name": "Python 3",
   "language": "python",
   "name": "python3"
  },
  "language_info": {
   "codemirror_mode": {
    "name": "ipython",
    "version": 3
   },
   "file_extension": ".py",
   "mimetype": "text/x-python",
   "name": "python",
   "nbconvert_exporter": "python",
   "pygments_lexer": "ipython3",
   "version": "3.7.3"
  }
 },
 "nbformat": 4,
 "nbformat_minor": 2
}
