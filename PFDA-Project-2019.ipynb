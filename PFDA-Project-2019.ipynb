{
 "cells": [
  {
   "cell_type": "markdown",
   "metadata": {},
   "source": [
    "# PFDA-Project-2019\n",
    "\n",
    "## Programming for Data Analysis Project 2019 - Child Birth"
   ]
  },
  {
   "cell_type": "markdown",
   "metadata": {},
   "source": [
    "### Simulating Data\n",
    "\n",
    "\n",
    "### Child Birth Ireland"
   ]
  },
  {
   "cell_type": "markdown",
   "metadata": {},
   "source": [
    "### Import Packages"
   ]
  },
  {
   "cell_type": "code",
   "execution_count": 1,
   "metadata": {},
   "outputs": [],
   "source": [
    "import numpy as np\n",
    "import pandas as pd\n",
    "import matplotlib.pyplot as plt \n",
    "import seaborn as sbn"
   ]
  },
  {
   "cell_type": "markdown",
   "metadata": {},
   "source": [
    "Below code will be used so that the number of Irish children born can be simulated up to any positive integer, code to ensure number entered into variable is a positive integer adapted from [here.](https://www.quora.com/How-can-I-make-sure-the-user-inputs-a-positive-integer-in-Python)"
   ]
  },
  {
   "cell_type": "code",
   "execution_count": 2,
   "metadata": {},
   "outputs": [
    {
     "name": "stdout",
     "output_type": "stream",
     "text": [
      "Please enter the number of Irish births you would like to simulate: 500\n"
     ]
    }
   ],
   "source": [
    "# code below adapted from above link which prevents numbers less than 0 and non numeric characters being entered.\n",
    "\n",
    "while True:\n",
    "\ttry:\n",
    "\t\tnumber_births = int(input(\"Please enter the number of Irish births you would like to simulate: \"))\n",
    "\t\tassert(number_births>0)\n",
    "\t\tbreak\n",
    "\texcept:\n",
    "\t\tprint(\"The number of births must be a positive integer, please try again.\")"
   ]
  },
  {
   "cell_type": "markdown",
   "metadata": {},
   "source": [
    "### Create Gender Data\n",
    "After some initial research my simulation will focus on first time parents becasue as the birth order increases this can have an affect on the gender ratio of the child being born as discussed in (Ritchie & Roser, 2019). As the birth order increases there is a bias in favour of females being born, it may be possible to build this variation into my simulation however further research is required first.\n",
    "\n",
    "The paper relating to the data used in the website by (Ritchie & Roser, 2019) on gender ratios is based off of the study completed (Chao, et al., 2019) , for the generation of the gender data used to validate there sample the authors used a normal distribution. This will also be the distribution I will use in the generation of the gender of the children born in my simulaiton."
   ]
  },
  {
   "cell_type": "code",
   "execution_count": 3,
   "metadata": {},
   "outputs": [],
   "source": [
    "gender_number = np.random.normal(loc=0.0, scale=1.0, size=number_births)"
   ]
  },
  {
   "cell_type": "markdown",
   "metadata": {},
   "source": [
    "After generating the random numbers that I will use as the basis for determining the gender of the children in my simulation I plotted the data in a histogram to confirm the normal distribution of the data. I will create a text column that is linked to this number whereby numbers greater than 0 will be male and less than will be females."
   ]
  },
  {
   "cell_type": "code",
   "execution_count": 4,
   "metadata": {},
   "outputs": [
    {
     "data": {
      "image/png": "[encoded data removed]",
      "text/plain": [
       "<Figure size 1080x540 with 1 Axes>"
      ]
     },
     "metadata": {
      "needs_background": "light"
     },
     "output_type": "display_data"
    }
   ],
   "source": [
    "plt.rcParams[\"figure.figsize\"] = (15,7.5)\n",
    "\n",
    "sbn.distplot(gender_number, color='orange',  bins=6)\n",
    "sbn.set_style(\"darkgrid\")\n",
    "plt.title('Fig 1: Gender Number Histogram')\n",
    "plt.xlabel('< 0 = Females > 0 = Males ')\n",
    "plt.ylabel('Frequency')\n",
    "plt.show()"
   ]
  },
  {
   "cell_type": "code",
   "execution_count": 5,
   "metadata": {
    "scrolled": true
   },
   "outputs": [],
   "source": [
    "# Convert from numpy array to pandas dataframe, this dataframe will house the data for my final submission\n",
    "\n",
    "birth_data = pd.DataFrame(gender_number)\n",
    "birth_data.columns = ['gender_number']"
   ]
  },
  {
   "cell_type": "markdown",
   "metadata": {},
   "source": [
    "Code to create text of gender based on values gender number column adapted from [here.](https://stackoverflow.com/questions/19913659/pandas-conditional-creation-of-a-series-dataframe-column)"
   ]
  },
  {
   "cell_type": "code",
   "execution_count": 6,
   "metadata": {
    "scrolled": true
   },
   "outputs": [
    {
     "name": "stdout",
     "output_type": "stream",
     "text": [
      "     gender_number gender_text\n",
      "0        -1.119639      Female\n",
      "1        -1.121054      Female\n",
      "2        -0.091861      Female\n",
      "3         0.015088        Male\n",
      "4         0.828065        Male\n",
      "5         0.970568        Male\n",
      "6        -0.623027      Female\n",
      "7         0.805802        Male\n",
      "8         1.558070        Male\n",
      "9        -0.236649      Female\n",
      "10       -0.525506      Female\n",
      "11        0.508404        Male\n",
      "12       -0.297130      Female\n",
      "13       -1.687731      Female\n",
      "14        0.211746        Male\n",
      "15       -0.201514      Female\n",
      "16        0.449961        Male\n",
      "17       -1.357263      Female\n",
      "18       -0.644996      Female\n",
      "19        0.582181        Male\n",
      "20       -0.906859      Female\n",
      "21        0.931711        Male\n",
      "22        0.669479        Male\n",
      "23       -0.426054      Female\n",
      "24       -0.667606      Female\n",
      "25       -0.024916      Female\n",
      "26        0.143295        Male\n",
      "27       -1.557438      Female\n",
      "28        1.214088        Male\n",
      "29        0.671688        Male\n",
      "..             ...         ...\n",
      "470      -0.608961      Female\n",
      "471      -0.244251      Female\n",
      "472      -1.259602      Female\n",
      "473       1.282739        Male\n",
      "474       0.192399        Male\n",
      "475       0.681335        Male\n",
      "476      -0.247492      Female\n",
      "477      -2.071056      Female\n",
      "478      -0.897293      Female\n",
      "479       0.018174        Male\n",
      "480       0.535756        Male\n",
      "481      -0.306914      Female\n",
      "482      -2.006114      Female\n",
      "483      -1.417863      Female\n",
      "484      -0.114267      Female\n",
      "485       0.761344        Male\n",
      "486       0.152777        Male\n",
      "487       0.219413        Male\n",
      "488       0.748003        Male\n",
      "489       1.293643        Male\n",
      "490      -0.527690      Female\n",
      "491       0.043051        Male\n",
      "492      -0.458629      Female\n",
      "493       1.209125        Male\n",
      "494      -0.085972      Female\n",
      "495       0.501511        Male\n",
      "496       0.827104        Male\n",
      "497      -0.942935      Female\n",
      "498       1.923811        Male\n",
      "499       0.113358        Male\n",
      "\n",
      "[500 rows x 2 columns]\n"
     ]
    }
   ],
   "source": [
    "birth_data['gender_text'] = np.where(birth_data['gender_number']>0, 'Male', 'Female')\n",
    "print(birth_data)"
   ]
  },
  {
   "cell_type": "markdown",
   "metadata": {},
   "source": [
    "### Create Gestation Length Data"
   ]
  },
  {
   "cell_type": "markdown",
   "metadata": {},
   "source": [
    "Gestation period plays a huge role in the birth weight that a child will be when it is born, (Jukic, et al., 2013) describes several start points for starting the counting of days of gestation. For my analysis I will be using the Last Menstrual Period (LMP) as my start point for measuring the number of days of gestation.\n",
    "\n",
    "The mean and standard deviation required to generate the gestational data were taken from (Jukic, et al., 2013), the type of distribution that represents gestation period can be seen in (Nassar, et al., 2013). \n",
    "\n",
    "Figure 1 taken from (Nassar, et al., 2013) shows the curve of the gestation period over the years 1994-2009 for Australian births, the resulting curve for 2009 apppears to follow a standard normal distribution.\n",
    "\n",
    "\n",
    "![Figure 1](Resources/Figure_1.png)\n",
    "**Figure 1**\n",
    "\n",
    "\n",
    "\n",
    "\n",
    "For my simulation I will generate data for gestational period in days that follows this kind of curve."
   ]
  },
  {
   "cell_type": "code",
   "execution_count": 7,
   "metadata": {},
   "outputs": [],
   "source": [
    "# Mean 285 Standar Deviation 14 as per Table I (Jukic, et al., 2013)\n",
    "# Numbers divided by 7 in order to get number of weeks to be used in birth weight calculation\n",
    "\n",
    "birth_data['gestation_period'] = np.random.normal(loc=285, scale=14, size=number_births)/7\n",
    "\n",
    "# Round Gestation Period to nearest whole number\n",
    "birth_data['gestation_period'] = birth_data['gestation_period'].round(0)"
   ]
  },
  {
   "cell_type": "markdown",
   "metadata": {},
   "source": [
    "### Create Weight Data"
   ]
  },
  {
   "cell_type": "markdown",
   "metadata": {},
   "source": [
    "The study carried out in (Charnigo, et al., 2010) set out to model the distributions of birth weights in children. The author goes on to explain that different components of data can have an influence on the shape of the distributions such as smoking preference and ethnicity to name two.\n",
    "\n",
    "For the purpose of this simulation as highlighted by the author of the above study I will be using a noraml distribution as thre are far too many components to account for all instances but I will use a different mean for either genders and the gestation age in the generation of the data.\n",
    "\n",
    "In there study (Janssen, et al., 2007) descibed the mean and standard deviations of birth weights broken out by gestation period and gender, table 1 is taken from this study. \n",
    "\n",
    "For generating my data I will be using the european baby data, for gestation periods in my simulated data above 41 weeks and below 37 weeks I will combine them with the closest week number I have data for.\n",
    "\n",
    "\n",
    "**Table 1**\n",
    "![Table_1](Resources/Table_1.png)"
   ]
  },
  {
   "cell_type": "markdown",
   "metadata": {},
   "source": [
    "Code to create new column in datafram using apply function adapted from [here](https://stackoverflow.com/questions/30631841/pandas-how-do-i-assign-values-based-on-multiple-conditions-for-existing-columns)."
   ]
  },
  {
   "cell_type": "code",
   "execution_count": 8,
   "metadata": {},
   "outputs": [],
   "source": [
    "def f(birth_data):\n",
    "  if birth_data['gender_text'] == \"Male\" and birth_data['gestation_period'] <= 37.0: return np.random.normal(loc=3336.4, scale=434.3, size=None)\n",
    "  elif birth_data['gender_text'] == \"Male\" and birth_data['gestation_period'] == 38 : return np.random.normal(loc=3359.4, scale=416.3, size=None)\n",
    "  elif birth_data['gender_text'] == \"Male\" and birth_data['gestation_period'] == 39 : return np.random.normal(loc=3586.0, scale=460.3, size=None)  \n",
    "  elif birth_data['gender_text'] == \"Male\" and birth_data['gestation_period'] == 40 : return np.random.normal(loc=3687.6, scale=410.5, size=None)\n",
    "  elif birth_data['gender_text'] == \"Male\" and birth_data['gestation_period'] >= 41 : return np.random.normal(loc=3877.1, scale=384.4, size=None)\n",
    "  elif birth_data['gender_text'] == \"Female\" and birth_data['gestation_period'] <= 37 : return np.random.normal(loc=3050.7, scale=414.1, size=None)\n",
    "  elif birth_data['gender_text'] == \"Female\" and birth_data['gestation_period'] == 38 : return np.random.normal(loc=3293.5, scale=423.3, size=None)\n",
    "  elif birth_data['gender_text'] == \"Female\" and birth_data['gestation_period'] == 39 : return np.random.normal(loc=3455.8, scale=434, size=None)\n",
    "  elif birth_data['gender_text'] == \"Female\" and birth_data['gestation_period'] == 40 : return np.random.normal(loc=3639.5, scale=458.2, size=None)\n",
    "  elif birth_data['gender_text'] == \"Female\" and birth_data['gestation_period'] >= 41 : return np.random.normal(loc=3696.8, scale=448, size=None)\n",
    "  else: return 0\n",
    "\n",
    "birth_data['birth_weight'] = birth_data.apply(f, axis=1)\n",
    "\n",
    "# Round birth weight to 0 decimals\n",
    "birth_data['birth_weight'] = birth_data['birth_weight'].round(0)"
   ]
  },
  {
   "cell_type": "markdown",
   "metadata": {},
   "source": [
    "### Create Length Data"
   ]
  },
  {
   "cell_type": "markdown",
   "metadata": {},
   "source": [
    "Birth length is another important vairable when it comes to newborns and is monitored througout the development of the child, in there study (Janssen, et al., 2007)  also went on to describe the mean length and standard deviation of newborns by gender.\n",
    "\n",
    "I will attempt to simulate this data also by generating the birth length in cm's for the newborns in my simulation utilising the normal distribution along with using gender and gestation age to impact the length at birth. Again the data used to generate the length of the children can be found above in table 1."
   ]
  },
  {
   "cell_type": "code",
   "execution_count": 9,
   "metadata": {},
   "outputs": [],
   "source": [
    "def f(birth_data):\n",
    "  if birth_data['gender_text'] == \"Male\" and birth_data['gestation_period'] <= 37.0: return np.random.normal(loc=49.4, scale=2, size=None)\n",
    "  elif birth_data['gender_text'] == \"Male\" and birth_data['gestation_period'] == 38 : return np.random.normal(loc=49.4, scale=1.7, size=None)\n",
    "  elif birth_data['gender_text'] == \"Male\" and birth_data['gestation_period'] == 39 : return np.random.normal(loc=50.5, scale=1.9, size=None)  \n",
    "  elif birth_data['gender_text'] == \"Male\" and birth_data['gestation_period'] == 40 : return np.random.normal(loc=50.8, scale=1.7, size=None)\n",
    "  elif birth_data['gender_text'] == \"Male\" and birth_data['gestation_period'] >= 41 : return np.random.normal(loc=51.4, scale=2.2, size=None)\n",
    "  elif birth_data['gender_text'] == \"Female\" and birth_data['gestation_period'] <= 37 : return np.random.normal(loc=47.4, scale=2.5, size=None)\n",
    "  elif birth_data['gender_text'] == \"Female\" and birth_data['gestation_period'] == 38 : return np.random.normal(loc=48.6, scale=1.8, size=None)\n",
    "  elif birth_data['gender_text'] == \"Female\" and birth_data['gestation_period'] == 39 : return np.random.normal(loc=49.4, scale=1.7, size=None)\n",
    "  elif birth_data['gender_text'] == \"Female\" and birth_data['gestation_period'] == 40 : return np.random.normal(loc=50.2, scale=1.8, size=None)\n",
    "  elif birth_data['gender_text'] == \"Female\" and birth_data['gestation_period'] >= 41 : return np.random.normal(loc=50.5, scale=1.6, size=None)\n",
    "  else: return 0\n",
    "\n",
    "birth_data['birth_length'] = birth_data.apply(f, axis=1)\n",
    "\n",
    "# Round birth weight to 0 decimals\n",
    "birth_data['birth_length'] = birth_data['birth_length'].round(1)"
   ]
  },
  {
   "cell_type": "code",
   "execution_count": 10,
   "metadata": {
    "scrolled": true
   },
   "outputs": [
    {
     "name": "stdout",
     "output_type": "stream",
     "text": [
      "     gender_number gender_text  gestation_period  birth_weight  birth_length\n",
      "0        -1.119639      Female              40.0        4049.0          50.4\n",
      "1        -1.121054      Female              37.0        3373.0          48.0\n",
      "2        -0.091861      Female              40.0        3861.0          50.6\n",
      "3         0.015088        Male              39.0        3937.0          48.6\n",
      "4         0.828065        Male              42.0        3127.0          49.2\n",
      "5         0.970568        Male              42.0        3834.0          51.6\n",
      "6        -0.623027      Female              40.0        3435.0          52.6\n",
      "7         0.805802        Male              41.0        4133.0          51.1\n",
      "8         1.558070        Male              40.0        3741.0          48.0\n",
      "9        -0.236649      Female              41.0        3801.0          46.6\n",
      "10       -0.525506      Female              42.0        3741.0          49.5\n",
      "11        0.508404        Male              42.0        3798.0          50.9\n",
      "12       -0.297130      Female              39.0        3596.0          51.7\n",
      "13       -1.687731      Female              40.0        2794.0          50.9\n",
      "14        0.211746        Male              40.0        3783.0          51.8\n",
      "15       -0.201514      Female              41.0        3354.0          51.6\n",
      "16        0.449961        Male              42.0        4307.0          49.1\n",
      "17       -1.357263      Female              41.0        3597.0          51.3\n",
      "18       -0.644996      Female              39.0        3743.0          47.6\n",
      "19        0.582181        Male              38.0        2916.0          48.3\n",
      "20       -0.906859      Female              41.0        3278.0          53.5\n",
      "21        0.931711        Male              40.0        3903.0          50.0\n",
      "22        0.669479        Male              41.0        3815.0          52.6\n",
      "23       -0.426054      Female              45.0        2233.0          52.2\n",
      "24       -0.667606      Female              44.0        3933.0          50.4\n",
      "25       -0.024916      Female              40.0        3721.0          50.8\n",
      "26        0.143295        Male              39.0        3919.0          54.2\n",
      "27       -1.557438      Female              41.0        4059.0          51.3\n",
      "28        1.214088        Male              40.0        3770.0          50.4\n",
      "29        0.671688        Male              39.0        3764.0          53.8\n",
      "..             ...         ...               ...           ...           ...\n",
      "470      -0.608961      Female              42.0        4060.0          49.1\n",
      "471      -0.244251      Female              44.0        3903.0          49.8\n",
      "472      -1.259602      Female              42.0        4417.0          51.1\n",
      "473       1.282739        Male              39.0        4209.0          50.5\n",
      "474       0.192399        Male              42.0        3763.0          50.9\n",
      "475       0.681335        Male              45.0        4402.0          52.5\n",
      "476      -0.247492      Female              40.0        3810.0          51.3\n",
      "477      -2.071056      Female              40.0        3467.0          50.4\n",
      "478      -0.897293      Female              38.0        3672.0          48.9\n",
      "479       0.018174        Male              41.0        3431.0          52.4\n",
      "480       0.535756        Male              39.0        3618.0          51.0\n",
      "481      -0.306914      Female              42.0        4314.0          51.6\n",
      "482      -2.006114      Female              38.0        3481.0          51.1\n",
      "483      -1.417863      Female              39.0        3439.0          49.8\n",
      "484      -0.114267      Female              41.0        3230.0          50.8\n",
      "485       0.761344        Male              42.0        3453.0          52.4\n",
      "486       0.152777        Male              38.0        2726.0          49.8\n",
      "487       0.219413        Male              41.0        3252.0          47.4\n",
      "488       0.748003        Male              41.0        3484.0          49.3\n",
      "489       1.293643        Male              40.0        4004.0          50.2\n",
      "490      -0.527690      Female              42.0        2813.0          50.3\n",
      "491       0.043051        Male              42.0        4320.0          48.2\n",
      "492      -0.458629      Female              41.0        4103.0          50.9\n",
      "493       1.209125        Male              40.0        3412.0          51.6\n",
      "494      -0.085972      Female              38.0        3372.0          49.4\n",
      "495       0.501511        Male              40.0        3333.0          50.9\n",
      "496       0.827104        Male              41.0        3466.0          49.9\n",
      "497      -0.942935      Female              37.0        3065.0          48.9\n",
      "498       1.923811        Male              39.0        2971.0          52.9\n",
      "499       0.113358        Male              40.0        3109.0          51.7\n",
      "\n",
      "[500 rows x 5 columns]\n"
     ]
    }
   ],
   "source": [
    "print(birth_data)"
   ]
  },
  {
   "cell_type": "code",
   "execution_count": 11,
   "metadata": {},
   "outputs": [
    {
     "data": {
      "text/html": [
       "<div>\n",
       "<style scoped>\n",
       "    .dataframe tbody tr th:only-of-type {\n",
       "        vertical-align: middle;\n",
       "    }\n",
       "\n",
       "    .dataframe tbody tr th {\n",
       "        vertical-align: top;\n",
       "    }\n",
       "\n",
       "    .dataframe thead th {\n",
       "        text-align: right;\n",
       "    }\n",
       "</style>\n",
       "<table border=\"1\" class=\"dataframe\">\n",
       "  <thead>\n",
       "    <tr style=\"text-align: right;\">\n",
       "      <th></th>\n",
       "      <th>gender_number</th>\n",
       "      <th>gestation_period</th>\n",
       "      <th>birth_weight</th>\n",
       "      <th>birth_length</th>\n",
       "    </tr>\n",
       "  </thead>\n",
       "  <tbody>\n",
       "    <tr>\n",
       "      <th>count</th>\n",
       "      <td>500.000000</td>\n",
       "      <td>500.000000</td>\n",
       "      <td>500.000000</td>\n",
       "      <td>500.000000</td>\n",
       "    </tr>\n",
       "    <tr>\n",
       "      <th>mean</th>\n",
       "      <td>0.052802</td>\n",
       "      <td>40.744000</td>\n",
       "      <td>3643.888000</td>\n",
       "      <td>50.420400</td>\n",
       "    </tr>\n",
       "    <tr>\n",
       "      <th>std</th>\n",
       "      <td>0.998600</td>\n",
       "      <td>2.080173</td>\n",
       "      <td>466.383966</td>\n",
       "      <td>1.948964</td>\n",
       "    </tr>\n",
       "    <tr>\n",
       "      <th>min</th>\n",
       "      <td>-3.187504</td>\n",
       "      <td>34.000000</td>\n",
       "      <td>2061.000000</td>\n",
       "      <td>44.600000</td>\n",
       "    </tr>\n",
       "    <tr>\n",
       "      <th>25%</th>\n",
       "      <td>-0.627027</td>\n",
       "      <td>39.000000</td>\n",
       "      <td>3357.000000</td>\n",
       "      <td>49.200000</td>\n",
       "    </tr>\n",
       "    <tr>\n",
       "      <th>50%</th>\n",
       "      <td>0.061709</td>\n",
       "      <td>41.000000</td>\n",
       "      <td>3661.500000</td>\n",
       "      <td>50.400000</td>\n",
       "    </tr>\n",
       "    <tr>\n",
       "      <th>75%</th>\n",
       "      <td>0.742798</td>\n",
       "      <td>42.000000</td>\n",
       "      <td>3934.750000</td>\n",
       "      <td>51.700000</td>\n",
       "    </tr>\n",
       "    <tr>\n",
       "      <th>max</th>\n",
       "      <td>3.255717</td>\n",
       "      <td>47.000000</td>\n",
       "      <td>5134.000000</td>\n",
       "      <td>56.400000</td>\n",
       "    </tr>\n",
       "  </tbody>\n",
       "</table>\n",
       "</div>"
      ],
      "text/plain": [
       "       gender_number  gestation_period  birth_weight  birth_length\n",
       "count     500.000000        500.000000    500.000000    500.000000\n",
       "mean        0.052802         40.744000   3643.888000     50.420400\n",
       "std         0.998600          2.080173    466.383966      1.948964\n",
       "min        -3.187504         34.000000   2061.000000     44.600000\n",
       "25%        -0.627027         39.000000   3357.000000     49.200000\n",
       "50%         0.061709         41.000000   3661.500000     50.400000\n",
       "75%         0.742798         42.000000   3934.750000     51.700000\n",
       "max         3.255717         47.000000   5134.000000     56.400000"
      ]
     },
     "execution_count": 11,
     "metadata": {},
     "output_type": "execute_result"
    }
   ],
   "source": [
    "birth_data.describe()"
   ]
  },
  {
   "cell_type": "markdown",
   "metadata": {},
   "source": [
    "### References\n",
    "\n",
    "Central Statistics Office Ireland, Unknown. Vital Statistics Annual Report 2017 - Births 2017, Dublin: Central Statistics Office Ireland.\n",
    "\n",
    "Chao, F., Gerland, P., Cook, A. R. & Alkema, L., 2019. Systematic assessment of the sex ratio at birth for all countries and estimation of national imbalances and regional reference levels. PNAS, 116(19), pp. 9303 - 9311.\n",
    "\n",
    "Charnigo, R., Chesnut, L. W., LoBianco, T. & Kirby, R. S., 2010. Thinking outside the curve, part I: modeling birthweight distribution. BMC, 28 Jul.10(37).\n",
    "\n",
    "Janssen, P. A. et al., 2007. Standards for the measurement of birth weight, length and head circumference at term in neonates of European, Chinese and South Asian ancestry. Open Medicine, 10 Jul, 1(2), pp. 74-88.\n",
    "\n",
    "Jukic, A. M. et al., 2013. Length of human pregnancy and contributors to its natural variation. Human Reproduction, 6 Aug, 28(10), pp. 2848 - 2855.\n",
    "\n",
    "Ritchie, H. & Roser, M., 2019. Gender Ratio. [Online] \n",
    "Available at: https://ourworldindata.org/gender-ratio\n",
    "[Accessed 01 Onward December 2019].\n",
    "\n",
    "Walsh, A.-M., 2008. Big is beautiful as experts dispel 'sumo baby' myth. [Online] \n",
    "Available at: https://www.independent.ie/irish-news/big-is-beautiful-as-experts-dispel-sumo-baby-myth-26454311.html\n",
    "[Accessed 01 Onward December 2019]."
   ]
  },
  {
   "cell_type": "markdown",
   "metadata": {},
   "source": [
    "##### "
   ]
  }
 ],
 "metadata": {
  "kernelspec": {
   "display_name": "Python 3",
   "language": "python",
   "name": "python3"
  },
  "language_info": {
   "codemirror_mode": {
    "name": "ipython",
    "version": 3
   },
   "file_extension": ".py",
   "mimetype": "text/x-python",
   "name": "python",
   "nbconvert_exporter": "python",
   "pygments_lexer": "ipython3",
   "version": "3.7.3"
  }
 },
 "nbformat": 4,
 "nbformat_minor": 2
}
