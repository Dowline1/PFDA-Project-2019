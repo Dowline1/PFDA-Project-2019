{
 "cells": [
  {
   "cell_type": "markdown",
   "metadata": {},
   "source": [
    "# PFDA-Project-2019\n",
    "\n",
    "## Programming for Data Analysis Project 2019 - Child Birth"
   ]
  },
  {
   "cell_type": "markdown",
   "metadata": {},
   "source": [
    "### Simulating Data\n",
    "\n",
    "\n",
    "### Child Birth Ireland"
   ]
  },
  {
   "cell_type": "markdown",
   "metadata": {},
   "source": [
    "### Import Packages"
   ]
  },
  {
   "cell_type": "code",
   "execution_count": 1,
   "metadata": {},
   "outputs": [],
   "source": [
    "import numpy as np\n",
    "import pandas as pd\n",
    "import matplotlib.pyplot as plt \n",
    "import seaborn as sbn"
   ]
  },
  {
   "cell_type": "markdown",
   "metadata": {},
   "source": [
    "Below code will be used so that the number of Irish children born can be simulated up to any positive integer, code to ensure number entered into variable is a positive integer adapted from [here.](https://www.quora.com/How-can-I-make-sure-the-user-inputs-a-positive-integer-in-Python)"
   ]
  },
  {
   "cell_type": "code",
   "execution_count": 2,
   "metadata": {},
   "outputs": [
    {
     "name": "stdout",
     "output_type": "stream",
     "text": [
      "Please enter the number of Irish births you would like to simulate: 200\n"
     ]
    }
   ],
   "source": [
    "# code below adapted from above link which prevents numbers less than 0 and non numeric characters being entered.\n",
    "\n",
    "while True:\n",
    "\ttry:\n",
    "\t\tnumber_births = int(input(\"Please enter the number of Irish births you would like to simulate: \"))\n",
    "\t\tassert(number_births>0)\n",
    "\t\tbreak\n",
    "\texcept:\n",
    "\t\tprint(\"The number of births must be a positive integer, please try again.\")"
   ]
  },
  {
   "cell_type": "markdown",
   "metadata": {},
   "source": [
    "### Create Gender Data\n",
    "After some initial research my simulation will focus on first time parents becasue as the birth order increases this can have an affect on the gender ratio of the child being born as can be seen [here.](https://ourworldindata.org/gender-ratio) As the birth order increases there is a bias in favour of females being born, it may be possible to build this variation into my simulation however further research is required first.\n",
    "\n",
    "The paper related to the above website on gender ratios can be found [here](https://www.pnas.org/content/116/19/9303), for the generation of the gender data used to validate there sample the authors used a normal distribution. This will also be the distribution I will use in the generation of the gender of the children born in my simulaiton."
   ]
  },
  {
   "cell_type": "code",
   "execution_count": 3,
   "metadata": {},
   "outputs": [],
   "source": [
    "gender_number = np.random.normal(loc=0.0, scale=1.0, size=number_births)"
   ]
  },
  {
   "cell_type": "markdown",
   "metadata": {},
   "source": [
    "After generating the random numbers that I will use as the basis for determining the gender of the children in my simulation I plotted the data in a histogram to confirm the normal distribution of the data. I will create a text column that is linked to this number whereby numbers greater than 0 will be male and less than will be females."
   ]
  },
  {
   "cell_type": "code",
   "execution_count": 4,
   "metadata": {},
   "outputs": [
    {
     "data": {
      "image/png": "[encoded data removed]",
      "text/plain": [
       "<Figure size 1080x540 with 1 Axes>"
      ]
     },
     "metadata": {
      "needs_background": "light"
     },
     "output_type": "display_data"
    }
   ],
   "source": [
    "plt.rcParams[\"figure.figsize\"] = (15,7.5)\n",
    "\n",
    "sbn.distplot(gender_number, color='orange',  bins=6)\n",
    "sbn.set_style(\"darkgrid\")\n",
    "plt.title('Fig 1: Gender Number Histogram')\n",
    "plt.xlabel('< 0 = Females > 0 = Males ')\n",
    "plt.ylabel('Frequency')\n",
    "plt.show()"
   ]
  },
  {
   "cell_type": "code",
   "execution_count": 5,
   "metadata": {
    "scrolled": true
   },
   "outputs": [],
   "source": [
    "# Convert from numpy array to pandas dataframe, this dataframe will house the data for my final submission\n",
    "\n",
    "birth_data = pd.DataFrame(gender_number)\n",
    "birth_data.columns = ['gender_number']"
   ]
  },
  {
   "cell_type": "markdown",
   "metadata": {},
   "source": [
    "Code to create text of gender based on values gender number column adapted from [here.](https://stackoverflow.com/questions/19913659/pandas-conditional-creation-of-a-series-dataframe-column)"
   ]
  },
  {
   "cell_type": "code",
   "execution_count": 6,
   "metadata": {
    "scrolled": true
   },
   "outputs": [
    {
     "name": "stdout",
     "output_type": "stream",
     "text": [
      "     gender_number gender_text\n",
      "0        -0.627249      Female\n",
      "1         0.948149        Male\n",
      "2         0.437449        Male\n",
      "3         0.228273        Male\n",
      "4         0.315317        Male\n",
      "5         0.448210        Male\n",
      "6         1.326788        Male\n",
      "7         0.750548        Male\n",
      "8        -0.139764      Female\n",
      "9         0.051801        Male\n",
      "10       -1.030319      Female\n",
      "11        0.390453        Male\n",
      "12        0.284961        Male\n",
      "13        0.204848        Male\n",
      "14       -1.473185      Female\n",
      "15        0.588651        Male\n",
      "16        0.802300        Male\n",
      "17        1.403262        Male\n",
      "18       -0.389810      Female\n",
      "19       -0.399443      Female\n",
      "20       -0.984899      Female\n",
      "21       -2.094645      Female\n",
      "22        0.161156        Male\n",
      "23        0.553659        Male\n",
      "24       -0.662607      Female\n",
      "25        1.390254        Male\n",
      "26       -0.137864      Female\n",
      "27       -0.961734      Female\n",
      "28        0.712241        Male\n",
      "29        1.643982        Male\n",
      "..             ...         ...\n",
      "170      -0.470116      Female\n",
      "171      -1.275433      Female\n",
      "172       0.938342        Male\n",
      "173       0.217049        Male\n",
      "174      -1.759747      Female\n",
      "175       0.151661        Male\n",
      "176       0.676061        Male\n",
      "177      -0.995128      Female\n",
      "178      -0.741559      Female\n",
      "179       0.587883        Male\n",
      "180       0.514674        Male\n",
      "181       0.121839        Male\n",
      "182      -0.889430      Female\n",
      "183      -1.517150      Female\n",
      "184      -1.060314      Female\n",
      "185      -0.254114      Female\n",
      "186      -0.275329      Female\n",
      "187      -1.278089      Female\n",
      "188      -0.553127      Female\n",
      "189       1.342409        Male\n",
      "190       1.079228        Male\n",
      "191       1.392527        Male\n",
      "192       0.882527        Male\n",
      "193      -0.237050      Female\n",
      "194      -0.042282      Female\n",
      "195      -0.266505      Female\n",
      "196      -1.414541      Female\n",
      "197       0.446295        Male\n",
      "198       0.546815        Male\n",
      "199      -0.151742      Female\n",
      "\n",
      "[200 rows x 2 columns]\n"
     ]
    }
   ],
   "source": [
    "birth_data['gender_text'] = np.where(birth_data['gender_number']>0, 'Male', 'Female')\n",
    "print(birth_data)"
   ]
  },
  {
   "cell_type": "markdown",
   "metadata": {},
   "source": [
    "### Create Weight Data"
   ]
  },
  {
   "cell_type": "markdown",
   "metadata": {},
   "source": [
    "The study completed in the following [link](https://www.ncbi.nlm.nih.gov/pmc/articles/PMC2927479/) sets out to model the distributions of birth weights in children. The author goes on to explain that different components of data can have an influence on the shape of the distributions such as smoking preference and ethnicity to name two.\n",
    "\n",
    "For the purpose of this simulation as highlighted by the author of the above study I will be using a noraml distribution as thre are far too many components to account for all instances but I will use a different mean for either genders in the generation of the data.\n",
    "\n",
    "Average weights of Irish newborns taken from [this](https://www.independent.ie/irish-news/big-is-beautiful-as-experts-dispel-sumo-baby-myth-26454311.html) article by the Irish Independent which references 2017 CSO figures and which I belive to be a reliable source of data."
   ]
  },
  {
   "cell_type": "code",
   "execution_count": 9,
   "metadata": {},
   "outputs": [],
   "source": [
    "# Male Mean = 7lb 13oz/3,543g\n",
    "# Female Mean = 7lb 8oz/3,402g\n",
    "\n",
    "birth_data['birth_weight'] = np.where(birth_data['gender_number']>0, np.random.normal(loc=3543, size=None), np.random.normal(loc=3402, scale=1.0, size=None))"
   ]
  },
  {
   "cell_type": "code",
   "execution_count": 10,
   "metadata": {},
   "outputs": [
    {
     "name": "stdout",
     "output_type": "stream",
     "text": [
      "     gender_number gender_text  birth_weight\n",
      "0        -0.627249      Female   3401.315142\n",
      "1         0.948149        Male   3542.091087\n",
      "2         0.437449        Male   3542.091087\n",
      "3         0.228273        Male   3542.091087\n",
      "4         0.315317        Male   3542.091087\n",
      "5         0.448210        Male   3542.091087\n",
      "6         1.326788        Male   3542.091087\n",
      "7         0.750548        Male   3542.091087\n",
      "8        -0.139764      Female   3401.315142\n",
      "9         0.051801        Male   3542.091087\n",
      "10       -1.030319      Female   3401.315142\n",
      "11        0.390453        Male   3542.091087\n",
      "12        0.284961        Male   3542.091087\n",
      "13        0.204848        Male   3542.091087\n",
      "14       -1.473185      Female   3401.315142\n",
      "15        0.588651        Male   3542.091087\n",
      "16        0.802300        Male   3542.091087\n",
      "17        1.403262        Male   3542.091087\n",
      "18       -0.389810      Female   3401.315142\n",
      "19       -0.399443      Female   3401.315142\n",
      "20       -0.984899      Female   3401.315142\n",
      "21       -2.094645      Female   3401.315142\n",
      "22        0.161156        Male   3542.091087\n",
      "23        0.553659        Male   3542.091087\n",
      "24       -0.662607      Female   3401.315142\n",
      "25        1.390254        Male   3542.091087\n",
      "26       -0.137864      Female   3401.315142\n",
      "27       -0.961734      Female   3401.315142\n",
      "28        0.712241        Male   3542.091087\n",
      "29        1.643982        Male   3542.091087\n",
      "..             ...         ...           ...\n",
      "170      -0.470116      Female   3401.315142\n",
      "171      -1.275433      Female   3401.315142\n",
      "172       0.938342        Male   3542.091087\n",
      "173       0.217049        Male   3542.091087\n",
      "174      -1.759747      Female   3401.315142\n",
      "175       0.151661        Male   3542.091087\n",
      "176       0.676061        Male   3542.091087\n",
      "177      -0.995128      Female   3401.315142\n",
      "178      -0.741559      Female   3401.315142\n",
      "179       0.587883        Male   3542.091087\n",
      "180       0.514674        Male   3542.091087\n",
      "181       0.121839        Male   3542.091087\n",
      "182      -0.889430      Female   3401.315142\n",
      "183      -1.517150      Female   3401.315142\n",
      "184      -1.060314      Female   3401.315142\n",
      "185      -0.254114      Female   3401.315142\n",
      "186      -0.275329      Female   3401.315142\n",
      "187      -1.278089      Female   3401.315142\n",
      "188      -0.553127      Female   3401.315142\n",
      "189       1.342409        Male   3542.091087\n",
      "190       1.079228        Male   3542.091087\n",
      "191       1.392527        Male   3542.091087\n",
      "192       0.882527        Male   3542.091087\n",
      "193      -0.237050      Female   3401.315142\n",
      "194      -0.042282      Female   3401.315142\n",
      "195      -0.266505      Female   3401.315142\n",
      "196      -1.414541      Female   3401.315142\n",
      "197       0.446295        Male   3542.091087\n",
      "198       0.546815        Male   3542.091087\n",
      "199      -0.151742      Female   3401.315142\n",
      "\n",
      "[200 rows x 3 columns]\n"
     ]
    }
   ],
   "source": [
    "print(birth_data)"
   ]
  },
  {
   "cell_type": "code",
   "execution_count": null,
   "metadata": {},
   "outputs": [],
   "source": []
  }
 ],
 "metadata": {
  "kernelspec": {
   "display_name": "Python 3",
   "language": "python",
   "name": "python3"
  },
  "language_info": {
   "codemirror_mode": {
    "name": "ipython",
    "version": 3
   },
   "file_extension": ".py",
   "mimetype": "text/x-python",
   "name": "python",
   "nbconvert_exporter": "python",
   "pygments_lexer": "ipython3",
   "version": "3.7.3"
  }
 },
 "nbformat": 4,
 "nbformat_minor": 2
}
