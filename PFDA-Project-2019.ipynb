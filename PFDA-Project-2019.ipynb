{
 "cells": [
  {
   "cell_type": "markdown",
   "metadata": {},
   "source": [
    "# PFDA-Project-2019\n",
    "\n",
    "## Programming for Data Analysis Project 2019 - Child Birth"
   ]
  },
  {
   "cell_type": "markdown",
   "metadata": {},
   "source": [
    "### Simulating Data\n",
    "\n",
    "\n",
    "### Child Birth Ireland"
   ]
  },
  {
   "cell_type": "markdown",
   "metadata": {},
   "source": [
    "### Import Packages"
   ]
  },
  {
   "cell_type": "code",
   "execution_count": 1,
   "metadata": {},
   "outputs": [],
   "source": [
    "import numpy as np\n",
    "import pandas as pd\n",
    "import matplotlib.pyplot as plt \n",
    "import seaborn as sbn"
   ]
  },
  {
   "cell_type": "markdown",
   "metadata": {},
   "source": [
    "Below code will be used so that the number of Irish children born can be simulated up to any positive integer, code to ensure number entered into variable is a positive integer adapted from here."
   ]
  },
  {
   "cell_type": "code",
   "execution_count": 2,
   "metadata": {},
   "outputs": [
    {
     "name": "stdout",
     "output_type": "stream",
     "text": [
      "Please enter the number of Irish births you would like to simulate: 200\n"
     ]
    }
   ],
   "source": [
    "# code below adapted from above link which prevents numbers less than 0 and non numeric characters being entered.\n",
    "\n",
    "while True:\n",
    "\ttry:\n",
    "\t\tnumber_births = int(input(\"Please enter the number of Irish births you would like to simulate: \"))\n",
    "\t\tassert(number_births>0)\n",
    "\t\tbreak\n",
    "\texcept:\n",
    "\t\tprint(\"The number of births must be a positive integer, please try again.\")"
   ]
  },
  {
   "cell_type": "markdown",
   "metadata": {},
   "source": [
    "### Create Gender Data\n",
    "After some initial research my simulation will focus on first time parents becasue as the birth order increases this can have an affect on the gender ratio of the child being born as can be seen [here.](https://ourworldindata.org/gender-ratio) As the birth order increases there is a bias in favour of females being born, it may be possible to build this variation into my simulation however further research is required first.\n",
    "\n",
    "The paper related to the above website on gender ratios can be found [here](https://www.pnas.org/content/116/19/9303), for the generation of the gender data used to validate there sample the authors used a normal distribution. This will also be the distribution I will use in the generation of the gender of the children born in my simulaiton."
   ]
  },
  {
   "cell_type": "code",
   "execution_count": 3,
   "metadata": {},
   "outputs": [],
   "source": [
    "gender_number = np.random.normal(loc=0.0, scale=1.0, size=number_births)"
   ]
  },
  {
   "cell_type": "markdown",
   "metadata": {},
   "source": [
    "After generating the random numbers that I will use as the basis for determining the gender of the children in my simulation I plotted the data in a histogram to confirm the normal distribution of the data. I will create a text column that is linked to this number whereby numbers greater than 0 will be male and less than will be females."
   ]
  },
  {
   "cell_type": "code",
   "execution_count": 4,
   "metadata": {},
   "outputs": [
    {
     "data": {
      "image/png": "[encoded data removed]",
      "text/plain": [
       "<Figure size 1080x540 with 1 Axes>"
      ]
     },
     "metadata": {
      "needs_background": "light"
     },
     "output_type": "display_data"
    }
   ],
   "source": [
    "plt.rcParams[\"figure.figsize\"] = (15,7.5)\n",
    "\n",
    "sbn.distplot(gender_number, color='orange',  bins=6)\n",
    "sbn.set_style(\"darkgrid\")\n",
    "plt.title('Fig 1: Gender Number Histogram')\n",
    "plt.xlabel('< 0 = Females > 0 = Males ')\n",
    "plt.ylabel('Frequency')\n",
    "plt.show()"
   ]
  },
  {
   "cell_type": "code",
   "execution_count": 5,
   "metadata": {
    "scrolled": true
   },
   "outputs": [],
   "source": [
    "# Convert from numpy array to pandas dataframe, this dataframe will house the data for my final submission\n",
    "\n",
    "birth_data = pd.DataFrame(gender_number)\n",
    "birth_data.columns = ['gender_number']"
   ]
  },
  {
   "cell_type": "markdown",
   "metadata": {},
   "source": [
    "Code to create text of gender based on values gender number column adapted from [here.](https://stackoverflow.com/questions/19913659/pandas-conditional-creation-of-a-series-dataframe-column)"
   ]
  },
  {
   "cell_type": "code",
   "execution_count": 6,
   "metadata": {
    "scrolled": true
   },
   "outputs": [
    {
     "name": "stdout",
     "output_type": "stream",
     "text": [
      "     gender_number gender_text\n",
      "0        -1.729344      Female\n",
      "1        -2.027175      Female\n",
      "2        -0.610601      Female\n",
      "3        -0.549243      Female\n",
      "4         0.606674        Male\n",
      "5        -0.622433      Female\n",
      "6         1.097535        Male\n",
      "7         0.520411        Male\n",
      "8         1.620411        Male\n",
      "9         0.676512        Male\n",
      "10        1.144781        Male\n",
      "11        1.118596        Male\n",
      "12       -0.451643      Female\n",
      "13        0.769848        Male\n",
      "14       -0.615795      Female\n",
      "15       -0.878076      Female\n",
      "16        0.472780        Male\n",
      "17       -1.756281      Female\n",
      "18        0.486652        Male\n",
      "19       -0.170457      Female\n",
      "20       -1.166949      Female\n",
      "21        1.153245        Male\n",
      "22       -0.455205      Female\n",
      "23       -0.519492      Female\n",
      "24       -0.047157      Female\n",
      "25        1.985089        Male\n",
      "26       -0.063799      Female\n",
      "27        0.775327        Male\n",
      "28        0.431984        Male\n",
      "29        0.553662        Male\n",
      "..             ...         ...\n",
      "170      -1.111174      Female\n",
      "171       1.956374        Male\n",
      "172      -0.156555      Female\n",
      "173      -0.640299      Female\n",
      "174       0.080392        Male\n",
      "175       0.512404        Male\n",
      "176       2.374619        Male\n",
      "177      -2.005982      Female\n",
      "178       0.941500        Male\n",
      "179      -0.202186      Female\n",
      "180      -1.433303      Female\n",
      "181       0.538552        Male\n",
      "182       1.263127        Male\n",
      "183      -0.575593      Female\n",
      "184       1.166248        Male\n",
      "185       1.147121        Male\n",
      "186      -1.664087      Female\n",
      "187      -0.096536      Female\n",
      "188       0.999457        Male\n",
      "189      -0.451340      Female\n",
      "190       1.447212        Male\n",
      "191      -0.534448      Female\n",
      "192      -0.778501      Female\n",
      "193       1.261410        Male\n",
      "194      -0.159727      Female\n",
      "195      -0.098118      Female\n",
      "196      -0.647071      Female\n",
      "197      -2.467553      Female\n",
      "198       1.264705        Male\n",
      "199      -0.475736      Female\n",
      "\n",
      "[200 rows x 2 columns]\n"
     ]
    }
   ],
   "source": [
    "birth_data['gender_text'] = np.where(birth_data['gender_number']>0, 'Male', 'Female')\n",
    "print(birth_data)"
   ]
  },
  {
   "cell_type": "code",
   "execution_count": 7,
   "metadata": {},
   "outputs": [
    {
     "name": "stdout",
     "output_type": "stream",
     "text": [
      "  gender_text  Count\n",
      "0      Female    103\n",
      "1        Male     97\n"
     ]
    }
   ],
   "source": [
    "df = birth_data.groupby(['gender_text'], sort=False).size().reset_index(name='Count')\n",
    "print (df)"
   ]
  },
  {
   "cell_type": "code",
   "execution_count": null,
   "metadata": {},
   "outputs": [],
   "source": []
  }
 ],
 "metadata": {
  "kernelspec": {
   "display_name": "Python 3",
   "language": "python",
   "name": "python3"
  },
  "language_info": {
   "codemirror_mode": {
    "name": "ipython",
    "version": 3
   },
   "file_extension": ".py",
   "mimetype": "text/x-python",
   "name": "python",
   "nbconvert_exporter": "python",
   "pygments_lexer": "ipython3",
   "version": "3.7.3"
  }
 },
 "nbformat": 4,
 "nbformat_minor": 2
}
